{
  "nbformat": 4,
  "nbformat_minor": 0,
  "metadata": {
    "colab": {
      "provenance": [],
      "authorship_tag": "ABX9TyPItrFGYatm3FMOwM1qXcVx",
      "include_colab_link": true
    },
    "kernelspec": {
      "name": "python3",
      "display_name": "Python 3"
    },
    "language_info": {
      "name": "python"
    }
  },
  "cells": [
    {
      "cell_type": "markdown",
      "metadata": {
        "id": "view-in-github",
        "colab_type": "text"
      },
      "source": [
        "<a href=\"https://colab.research.google.com/github/Rafael90900/Aula-07-python/blob/main/Aula07python.ipynb\" target=\"_parent\"><img src=\"https://colab.research.google.com/assets/colab-badge.svg\" alt=\"Open In Colab\"/></a>"
      ]
    },
    {
      "cell_type": "code",
      "execution_count": 1,
      "metadata": {
        "id": "9_YPnzWk38tl",
        "colab": {
          "base_uri": "https://localhost:8080/"
        },
        "outputId": "507d7639-71bc-424f-a6b5-8da6a93563ec"
      },
      "outputs": [
        {
          "output_type": "execute_result",
          "data": {
            "text/plain": [
              "['zé', 'tião', 'joaquin', 'julia', 'Ana', 'Zabé', 'Maria']"
            ]
          },
          "metadata": {},
          "execution_count": 1
        }
      ],
      "source": [
        "nomes = ['zé', 'tião', 'joaquin']\n",
        "nomes.append('julia')\n",
        "\n",
        "#vários valores\n",
        "outrosNomes = ['Ana', 'Zabé','Maria']\n",
        "nomes.extend(outrosNomes)\n",
        "\n",
        "nomes"
      ]
    },
    {
      "cell_type": "code",
      "source": [
        "#crie uma lista de números e\n",
        "numeros = [2 , 4 , 1 , 6 , 9 , 12]\n",
        "#remova o primeiro elemento da lista\n",
        "numeros.remove(numeros[0])\n",
        "#remova o ultimo elemento da lista\n",
        "numeros.pop()\n",
        "\n",
        "numeros"
      ],
      "metadata": {
        "colab": {
          "base_uri": "https://localhost:8080/"
        },
        "id": "ewgsBPJ-9V-D",
        "outputId": "ac4f9288-9bf5-47d2-ca27-df8d4dc1c53d"
      },
      "execution_count": 4,
      "outputs": [
        {
          "output_type": "execute_result",
          "data": {
            "text/plain": [
              "[4, 1, 6, 9]"
            ]
          },
          "metadata": {},
          "execution_count": 4
        }
      ]
    },
    {
      "cell_type": "code",
      "source": [
        "#1 crie uma lista de notas, e exiba do menor para o maior\n",
        "notas = [2, 10 , 9 ,4 , 7 , 3 , 8]\n",
        "nomes = ['Gustavo' , 'Adriel' , 'Luiz' , 'Cris']\n",
        "notas.sort()\n",
        "nomes.sort(reverse=True)\n",
        "#2 Crie uma lista de nomes de frutas e ordene em ordem decrescente\n",
        "\n",
        "nomes"
      ],
      "metadata": {
        "colab": {
          "base_uri": "https://localhost:8080/"
        },
        "id": "vObrGoJv_h9S",
        "outputId": "b40d3a85-05aa-4668-8d24-41e62f9bb651"
      },
      "execution_count": 5,
      "outputs": [
        {
          "output_type": "execute_result",
          "data": {
            "text/plain": [
              "['Luiz', 'Gustavo', 'Cris', 'Adriel']"
            ]
          },
          "metadata": {},
          "execution_count": 5
        }
      ]
    },
    {
      "cell_type": "code",
      "source": [
        "#Exemplo da função map - cria uma nova lista com o dobro\n",
        "numeros = [12, 4 , 6, 3]\n",
        "nova_lista = list(map(lambda x : x*2, numeros))\n",
        "nova_lista"
      ],
      "metadata": {
        "colab": {
          "base_uri": "https://localhost:8080/"
        },
        "id": "wkCvMFfVCWnh",
        "outputId": "c5fe5024-77fe-4232-87f7-93305a921afb"
      },
      "execution_count": 12,
      "outputs": [
        {
          "output_type": "execute_result",
          "data": {
            "text/plain": [
              "[24, 8, 12, 6]"
            ]
          },
          "metadata": {},
          "execution_count": 12
        }
      ]
    },
    {
      "cell_type": "code",
      "source": [
        "#pegar cada um dos números e dividir por 3\n",
        "numDivi = list(map(lambda x : x/3, numeros))\n",
        "numDivi"
      ],
      "metadata": {
        "colab": {
          "base_uri": "https://localhost:8080/"
        },
        "id": "KsuUuR-NDLre",
        "outputId": "59767fb3-86a8-4765-d459-1b4cf8c9b859"
      },
      "execution_count": 13,
      "outputs": [
        {
          "output_type": "execute_result",
          "data": {
            "text/plain": [
              "[4.0, 1.3333333333333333, 2.0, 1.0]"
            ]
          },
          "metadata": {},
          "execution_count": 13
        }
      ]
    },
    {
      "cell_type": "code",
      "source": [
        "#Pega cada número  divide por 2\n",
        "numDivi = list(map(lambda x : x/2, numeros ))\n",
        "numDivi"
      ],
      "metadata": {
        "colab": {
          "base_uri": "https://localhost:8080/"
        },
        "id": "rjulYVS-EHJ3",
        "outputId": "6898cb32-4c4a-4cb4-8859-977e187c56c0"
      },
      "execution_count": 15,
      "outputs": [
        {
          "output_type": "execute_result",
          "data": {
            "text/plain": [
              "[6.0, 2.0, 3.0, 1.5]"
            ]
          },
          "metadata": {},
          "execution_count": 15
        }
      ]
    },
    {
      "cell_type": "code",
      "source": [
        "#Exemplo função filter - a partir de uma lista de nomes,\n",
        "\n",
        "nomes = ['José', 'João', 'Luiz', 'Angelica' , 'Luciana']\n",
        "new_list = list(filter(lambda x : len(x)>5, nomes))\n",
        "new_list"
      ],
      "metadata": {
        "colab": {
          "base_uri": "https://localhost:8080/"
        },
        "id": "Vl583AsEFHyO",
        "outputId": "74de951e-a3bb-443b-fef6-887c5dd1349f"
      },
      "execution_count": 17,
      "outputs": [
        {
          "output_type": "execute_result",
          "data": {
            "text/plain": [
              "['Angelica', 'Luciana']"
            ]
          },
          "metadata": {},
          "execution_count": 17
        }
      ]
    },
    {
      "cell_type": "code",
      "source": [
        "#Crie uma lista de notas , imprime as maiores que 6\n",
        "notas = [5, 4 , 7 ,6 , 8 , 9 , 7, 6.5 , 7.3]\n",
        "newNotas = list(filter(lambda x : x>6, notas))\n",
        "newNotas"
      ],
      "metadata": {
        "colab": {
          "base_uri": "https://localhost:8080/"
        },
        "id": "dNRA0PwBF_h0",
        "outputId": "279afc08-5104-4db3-d810-2c52fb5e4935"
      },
      "execution_count": 28,
      "outputs": [
        {
          "output_type": "execute_result",
          "data": {
            "text/plain": [
              "[7, 8, 9, 7, 6.5, 7.3]"
            ]
          },
          "metadata": {},
          "execution_count": 28
        }
      ]
    },
    {
      "cell_type": "code",
      "source": [
        "#Dada uma lista de números, retorne uma lista contendo o quadrado de cada número\n",
        "numeros = [ 7 , 5 , 4 , 9 , 10]\n",
        "\n",
        "new_list = list(map(lambda x : (x+x)**2, numeros))\n",
        "\n",
        "new_list\n"
      ],
      "metadata": {
        "colab": {
          "base_uri": "https://localhost:8080/"
        },
        "id": "vL52a_T2Id2o",
        "outputId": "86c2baac-7354-4f37-ed40-b0ed910f0e98"
      },
      "execution_count": 42,
      "outputs": [
        {
          "output_type": "execute_result",
          "data": {
            "text/plain": [
              "[196, 100, 64, 324, 400]"
            ]
          },
          "metadata": {},
          "execution_count": 42
        }
      ]
    }
  ]
}